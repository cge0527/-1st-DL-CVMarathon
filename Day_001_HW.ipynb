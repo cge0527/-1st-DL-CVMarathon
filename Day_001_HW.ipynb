import numpy as np
import matplotlib.pyplot as plt
w = 3
b = 0.5
x_lin = np.linspace(0,100,101)
y = (x_lin+np.random.randn(101)*5) * w + b
plt.plot(x_lin,y,'b.',label='data points')
plt.title('Assume we have data points')

y_hat = x_lin * w + b
plt.plot(x_lin,y_hat,'r-',label='prediction')
plt.legend(loc=2)
plt.show()

def mean_squre_error(y,yp):
    z = y-yp
    mse = MSE = sum(z**2)/len(y)
    return mse
MSE = mean_squre_error(y, y_hat)
print('The Mean absolute error is %.3f' %(MSE))